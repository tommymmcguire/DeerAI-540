{
  "nbformat": 4,
  "nbformat_minor": 0,
  "metadata": {
    "colab": {
      "provenance": [],
      "authorship_tag": "ABX9TyODuflydK4drPlT2SasOTTy",
      "include_colab_link": true
    },
    "kernelspec": {
      "name": "python3",
      "display_name": "Python 3"
    },
    "language_info": {
      "name": "python"
    }
  },
  "cells": [
    {
      "cell_type": "markdown",
      "metadata": {
        "id": "view-in-github",
        "colab_type": "text"
      },
      "source": [
        "<a href=\"https://colab.research.google.com/github/tommymmcguire/DeerAI-540/blob/main/Untrained_ResNET.ipynb\" target=\"_parent\"><img src=\"https://colab.research.google.com/assets/colab-badge.svg\" alt=\"Open In Colab\"/></a>"
      ]
    },
    {
      "cell_type": "code",
      "execution_count": 1,
      "metadata": {
        "colab": {
          "base_uri": "https://localhost:8080/"
        },
        "id": "PvUUzndArSRM",
        "outputId": "203cbe1e-f557-4c65-b0c6-23175c39f980"
      },
      "outputs": [
        {
          "output_type": "stream",
          "name": "stdout",
          "text": [
            "Mounted at /content/drive\n"
          ]
        }
      ],
      "source": [
        "# Remove Colab default sample_data\n",
        "!rm -r ./sample_data\n",
        "\n",
        "from google.colab import drive\n",
        "\n",
        "drive.mount('/content/drive')"
      ]
    },
    {
      "cell_type": "code",
      "source": [
        "import time\n",
        "import copy\n",
        "import numpy as np\n",
        "from tqdm import tqdm\n",
        "import os\n",
        "import shutil\n",
        "from sklearn.model_selection import train_test_split\n",
        "from collections import defaultdict\n",
        "import torch\n",
        "import torchvision\n",
        "import torchvision.transforms as transforms\n",
        "from torch.utils.data import Dataset, DataLoader\n",
        "import torch.optim as optim\n",
        "import numpy as np\n",
        "from PIL import Image\n",
        "import matplotlib.pyplot as plt\n",
        "import torch.nn.functional as F\n",
        "from torchvision import models\n",
        "import torch.nn as nn\n",
        "from collections import Counter\n",
        "import re"
      ],
      "metadata": {
        "id": "iHsWRZ0TxpD6"
      },
      "execution_count": 3,
      "outputs": []
    },
    {
      "cell_type": "code",
      "source": [
        "import re\n",
        "from torch.utils.data import Dataset\n",
        "from torchvision import transforms\n",
        "from PIL import Image\n",
        "import os\n",
        "\n",
        "class AgeDataset(Dataset):\n",
        "    def __init__(self, directory, transform=None):\n",
        "        self.directory = directory\n",
        "        self.transform = transform\n",
        "        # Ensure only image files are listed\n",
        "        self.filenames = [f for f in os.listdir(directory) if f.lower().endswith(('.jpg', '.jpeg'))]\n",
        "\n",
        "    def __len__(self):\n",
        "        return len(self.filenames)\n",
        "\n",
        "    def __getitem__(self, idx):\n",
        "        img_name = os.path.join(self.directory, self.filenames[idx])\n",
        "        image = Image.open(img_name).convert('RGB')\n",
        "        basename = os.path.basename(img_name)\n",
        "\n",
        "        # Extract the age using regex to find the last sequence of digits\n",
        "        matches = re.findall(r'\\d+', basename)\n",
        "        if not matches:\n",
        "            raise ValueError(f\"No age found in filename: {img_name}\")\n",
        "        # The age is the last sequence of digits\n",
        "        age_str = matches[-1]\n",
        "        age = float(age_str)\n",
        "\n",
        "        if self.transform:\n",
        "            image = self.transform(image)\n",
        "\n",
        "        return image, age\n",
        "\n",
        "# Define your transformations\n",
        "transform = transforms.Compose([\n",
        "    transforms.Resize((224, 224)),\n",
        "    transforms.ToTensor(),\n",
        "    transforms.Normalize(mean=[0.485, 0.456, 0.406], std=[0.229, 0.224, 0.225]),\n",
        "])\n",
        "\n",
        "# Assuming the paths to your dataset directories are correctly set\n",
        "train_dataset = AgeDataset('./drive/MyDrive/CKWRI Deer Photos/datasets/train', transform=transform)\n",
        "val_dataset = AgeDataset('./drive/MyDrive/CKWRI Deer Photos/datasets/val', transform=transform)\n",
        "test_dataset = AgeDataset('./drive/MyDrive/CKWRI Deer Photos/datasets/test', transform=transform)\n",
        "\n",
        "num_workers = 4  # or 8 as a test\n",
        "\n",
        "train_loader = DataLoader(train_dataset, batch_size=32, shuffle=True, num_workers=num_workers)\n",
        "val_loader = DataLoader(val_dataset, batch_size=32, shuffle=False, num_workers=num_workers)\n",
        "test_loader = DataLoader(test_dataset, batch_size=32, shuffle=False, num_workers=num_workers)\n"
      ],
      "metadata": {
        "colab": {
          "base_uri": "https://localhost:8080/"
        },
        "id": "-KKJNuQnvbCW",
        "outputId": "d8cc48d8-85eb-47fe-98de-192c2e588e9f"
      },
      "execution_count": 4,
      "outputs": [
        {
          "output_type": "stream",
          "name": "stderr",
          "text": [
            "/usr/local/lib/python3.10/dist-packages/torch/utils/data/dataloader.py:558: UserWarning: This DataLoader will create 4 worker processes in total. Our suggested max number of worker in current system is 2, which is smaller than what this DataLoader is going to create. Please be aware that excessive worker creation might get DataLoader running slow or even freeze, lower the worker number to avoid potential slowness/freeze if necessary.\n",
            "  warnings.warn(_create_warning_msg(\n"
          ]
        }
      ]
    },
    {
      "cell_type": "code",
      "source": [
        "from torchvision import models\n",
        "import torch.nn as nn\n",
        "\n",
        "# Initialize an untrained ResNet model\n",
        "model = models.resnet50(pretrained=False)\n",
        "\n",
        "# Modify the final fully connected layer to output a single value for age\n",
        "num_ftrs = model.fc.in_features\n",
        "model.fc = nn.Linear(num_ftrs, 1)\n"
      ],
      "metadata": {
        "colab": {
          "base_uri": "https://localhost:8080/"
        },
        "id": "tc6jxSjVvgk6",
        "outputId": "7067f220-a54c-41d2-bbe1-2893ba166527"
      },
      "execution_count": 5,
      "outputs": [
        {
          "output_type": "stream",
          "name": "stderr",
          "text": [
            "/usr/local/lib/python3.10/dist-packages/torchvision/models/_utils.py:208: UserWarning: The parameter 'pretrained' is deprecated since 0.13 and may be removed in the future, please use 'weights' instead.\n",
            "  warnings.warn(\n",
            "/usr/local/lib/python3.10/dist-packages/torchvision/models/_utils.py:223: UserWarning: Arguments other than a weight enum or `None` for 'weights' are deprecated since 0.13 and may be removed in the future. The current behavior is equivalent to passing `weights=None`.\n",
            "  warnings.warn(msg)\n"
          ]
        }
      ]
    },
    {
      "cell_type": "code",
      "source": [
        "device = torch.device(\"cuda\" if torch.cuda.is_available() else \"cpu\")\n",
        "model = model.to(device)\n"
      ],
      "metadata": {
        "id": "ac_mD32Qvh4y"
      },
      "execution_count": 6,
      "outputs": []
    },
    {
      "cell_type": "code",
      "source": [
        "import torch\n",
        "from tqdm import tqdm\n",
        "\n",
        "# Ensure the model is in evaluation mode\n",
        "model.eval()\n",
        "\n",
        "predictions = []\n",
        "\n",
        "# No need to track gradients for inference\n",
        "with torch.no_grad():\n",
        "    for images, _ in tqdm(test_loader, desc=\"Predicting\"):\n",
        "        images = images.to(device)\n",
        "\n",
        "        # Forward pass to get outputs\n",
        "        outputs = model(images)\n",
        "\n",
        "        # You might want to apply any necessary post-processing on outputs here\n",
        "\n",
        "        predictions.extend(outputs.cpu().numpy())\n",
        "\n",
        "# predictions now contains the age predictions from the untrained model"
      ],
      "metadata": {
        "colab": {
          "base_uri": "https://localhost:8080/"
        },
        "id": "a4LG9BVwwpHE",
        "outputId": "107d1049-1e15-47fc-9a66-27fbc8c1084a"
      },
      "execution_count": 7,
      "outputs": [
        {
          "output_type": "stream",
          "name": "stderr",
          "text": [
            "\rPredicting:   0%|          | 0/68 [00:00<?, ?it/s]/usr/lib/python3.10/multiprocessing/popen_fork.py:66: RuntimeWarning: os.fork() was called. os.fork() is incompatible with multithreaded code, and JAX is multithreaded, so this will likely lead to a deadlock.\n",
            "  self.pid = os.fork()\n",
            "Predicting:  99%|█████████▊| 67/68 [02:59<00:00,  1.05it/s]/usr/lib/python3.10/multiprocessing/popen_fork.py:66: RuntimeWarning: os.fork() was called. os.fork() is incompatible with multithreaded code, and JAX is multithreaded, so this will likely lead to a deadlock.\n",
            "  self.pid = os.fork()\n",
            "Predicting: 100%|██████████| 68/68 [02:59<00:00,  2.65s/it]\n"
          ]
        }
      ]
    },
    {
      "cell_type": "code",
      "source": [
        "from sklearn.metrics import mean_absolute_error, mean_squared_error\n",
        "from math import sqrt\n",
        "import numpy as np\n",
        "import matplotlib.pyplot as plt\n",
        "\n",
        "actual_ages = []\n",
        "predicted_ages = []\n",
        "losses = []\n",
        "\n",
        "criterion = nn.MSELoss()\n",
        "\n",
        "with torch.no_grad():\n",
        "    for images, ages in tqdm(test_loader, desc=\"Evaluating\"):\n",
        "        images, ages = images.to(device), ages.to(device)\n",
        "        actual_ages.extend(ages.cpu().numpy())\n",
        "\n",
        "        outputs = model(images).squeeze()  # Ensure output shape matches the target\n",
        "        predicted_ages.extend(outputs.cpu().numpy())\n",
        "\n",
        "        loss = criterion(outputs, ages.float()).item()\n",
        "        losses.append(loss)\n",
        "\n",
        "# Convert lists to numpy arrays for calculation\n",
        "actual_ages = np.array(actual_ages)\n",
        "predicted_ages = np.array(predicted_ages)\n",
        "\n",
        "# Calculate MAE and RMSE\n",
        "mae = mean_absolute_error(actual_ages, predicted_ages)\n",
        "rmse = sqrt(mean_squared_error(actual_ages, predicted_ages))\n",
        "\n",
        "# Calculate average loss\n",
        "avg_loss = np.mean(losses)\n",
        "\n",
        "print(f'Average Loss: {avg_loss:.4f}')\n",
        "print(f'Mean Absolute Error (MAE): {mae:.4f}')\n",
        "print(f'Root Mean Squared Error (RMSE): {rmse:.4f}')\n"
      ],
      "metadata": {
        "colab": {
          "base_uri": "https://localhost:8080/"
        },
        "id": "WrI8rolcvjxH",
        "outputId": "f3816a2e-389a-4b9b-8941-b74c06b358aa"
      },
      "execution_count": 8,
      "outputs": [
        {
          "output_type": "stream",
          "name": "stderr",
          "text": [
            "Evaluating: 100%|██████████| 68/68 [01:56<00:00,  1.71s/it]"
          ]
        },
        {
          "output_type": "stream",
          "name": "stdout",
          "text": [
            "Average Loss: 543.7687\n",
            "Mean Absolute Error (MAE): 22.6058\n",
            "Root Mean Squared Error (RMSE): 23.3204\n"
          ]
        },
        {
          "output_type": "stream",
          "name": "stderr",
          "text": [
            "\n"
          ]
        }
      ]
    },
    {
      "cell_type": "code",
      "source": [
        "errors = predicted_ages - actual_ages\n",
        "\n",
        "plt.figure(figsize=(8, 6))\n",
        "plt.boxplot(errors, vert=False, patch_artist=True)\n",
        "plt.xlabel('Error (Predicted Age - Actual Age)')\n",
        "plt.title('Box Plot of Prediction Errors')\n",
        "plt.grid(True)\n",
        "plt.show()\n"
      ],
      "metadata": {
        "colab": {
          "base_uri": "https://localhost:8080/",
          "height": 564
        },
        "id": "tmg0wsbGwtm6",
        "outputId": "c75dacac-a236-4662-aebf-5437b24cdf2a"
      },
      "execution_count": 9,
      "outputs": [
        {
          "output_type": "display_data",
          "data": {
            "text/plain": [
              "<Figure size 800x600 with 1 Axes>"
            ],
            "image/png": "[encoded data removed]"
          },
          "metadata": {}
        }
      ]
    }
  ]
}